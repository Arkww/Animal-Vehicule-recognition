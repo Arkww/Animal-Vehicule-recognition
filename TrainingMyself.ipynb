{
 "cells": [
  {
   "cell_type": "code",
   "execution_count": 13,
   "metadata": {},
   "outputs": [],
   "source": [
    "import numpy as np\n",
    "from PIL import Image\n",
    "import torch\n",
    "import torch.nn as nn\n",
    "import torch.nn.functional as F\n",
    "import torch.optim as optim\n",
    "\n",
    "import torchvision\n",
    "import torchvision.transforms as transforms"
   ]
  },
  {
   "cell_type": "code",
   "execution_count": 14,
   "metadata": {},
   "outputs": [],
   "source": [
    "transform = transforms.Compose([\n",
    "            transforms.ToTensor(),\n",
    "            transforms.Normalize((0.5,0.5,0.5),(0.5,0.5,0.5))             \n",
    "    ])"
   ]
  },
  {
   "cell_type": "code",
   "execution_count": 15,
   "metadata": {},
   "outputs": [
    {
     "name": "stdout",
     "output_type": "stream",
     "text": [
      "Files already downloaded and verified\n",
      "Files already downloaded and verified\n"
     ]
    }
   ],
   "source": [
    "train_data = torchvision.datasets.CIFAR10(root='./data',train=True, transform=transform,download=True)\n",
    "test_data = torchvision.datasets.CIFAR10(root='./data',train=False, transform=transform,download=True)"
   ]
  },
  {
   "cell_type": "code",
   "execution_count": 16,
   "metadata": {},
   "outputs": [],
   "source": [
    "train_loader = torch.utils.data.DataLoader(train_data, batch_size=32, shuffle=True, num_workers=2)\n",
    "test_loader = torch.utils.data.DataLoader(test_data, batch_size=32, shuffle=True, num_workers=2)"
   ]
  },
  {
   "cell_type": "code",
   "execution_count": 17,
   "metadata": {},
   "outputs": [],
   "source": [
    "image, label = train_data[0]"
   ]
  },
  {
   "cell_type": "code",
   "execution_count": 18,
   "metadata": {},
   "outputs": [
    {
     "data": {
      "text/plain": [
       "torch.Size([3, 32, 32])"
      ]
     },
     "execution_count": 18,
     "metadata": {},
     "output_type": "execute_result"
    }
   ],
   "source": [
    "image.size()"
   ]
  },
  {
   "cell_type": "code",
   "execution_count": 19,
   "metadata": {},
   "outputs": [],
   "source": [
    "class_names = ['plane', \"car\", \"bird\", 'cat', 'deer', 'dog', 'frog', 'horse', 'ship', 'truck']"
   ]
  },
  {
   "cell_type": "code",
   "execution_count": 20,
   "metadata": {},
   "outputs": [],
   "source": [
    "class NeuralNet(nn.Module) :\n",
    "\n",
    "    def __init__(self) :\n",
    "        super().__init__()\n",
    "\n",
    "        self.conv1 = nn.Conv2d(3, 12, 5) # (12, 28, 28)\n",
    "        self.pool = nn.MaxPool2d(2,2) # (12 ,14 ,14)\n",
    "        self.conv2 = nn.Conv2d(12, 24, 5) # (24, 10 ,10) -> (24, 5, 5) -> flatten (24 *5 *5)\n",
    "        self.fc1 = nn.Linear(24 * 5 * 5, 120)\n",
    "        self.fc2 = nn.Linear(120, 84)\n",
    "        self.fc3 = nn.Linear(84, 10)\n",
    "\n",
    "    def forward(self, x) :\n",
    "        x = self.pool(F.relu(self.conv1(x)))\n",
    "        x = self.pool(F.relu(self.conv2(x)))\n",
    "        x = torch.flatten(x, 1)\n",
    "        x = F.relu(self.fc1(x))\n",
    "        x = F.relu(self.fc2(x))\n",
    "        x = self.fc3(x)\n",
    "        return x\n",
    "        \n"
   ]
  },
  {
   "cell_type": "code",
   "execution_count": 21,
   "metadata": {},
   "outputs": [],
   "source": [
    "net = NeuralNet()\n",
    "loss_function = nn.CrossEntropyLoss()\n",
    "optimizer = optim.SGD(net.parameters(), lr=0.001, momentum=0.9)"
   ]
  },
  {
   "cell_type": "code",
   "execution_count": 24,
   "metadata": {},
   "outputs": [
    {
     "name": "stdout",
     "output_type": "stream",
     "text": [
      "Training epoch : 0\n",
      "Loss : 2.153355517527726\n",
      "Training epoch : 1\n",
      "Loss : 1.721635686001256\n",
      "Training epoch : 2\n",
      "Loss : 1.5159487661000481\n",
      "Training epoch : 3\n",
      "Loss : 1.4023679266811866\n",
      "Training epoch : 4\n",
      "Loss : 1.3069697007946837\n",
      "Training epoch : 5\n",
      "Loss : 1.222743075700883\n",
      "Training epoch : 6\n",
      "Loss : 1.1536976610401541\n",
      "Training epoch : 7\n",
      "Loss : 1.0950955692881281\n",
      "Training epoch : 8\n",
      "Loss : 1.039083084385897\n",
      "Training epoch : 9\n",
      "Loss : 0.9893641875710002\n",
      "Training epoch : 10\n",
      "Loss : 0.9425715951300248\n",
      "Training epoch : 11\n",
      "Loss : 0.901571829427303\n",
      "Training epoch : 12\n",
      "Loss : 0.8664670223352319\n",
      "Training epoch : 13\n",
      "Loss : 0.830161060553976\n",
      "Training epoch : 14\n",
      "Loss : 0.7964697992161002\n",
      "Training epoch : 15\n",
      "Loss : 0.7664374751649602\n",
      "Training epoch : 16\n",
      "Loss : 0.7417914032058996\n",
      "Training epoch : 17\n",
      "Loss : 0.7153473004117198\n",
      "Training epoch : 18\n",
      "Loss : 0.6822608586446033\n",
      "Training epoch : 19\n",
      "Loss : 0.661184339952713\n",
      "Training epoch : 20\n",
      "Loss : 0.6393570795760121\n",
      "Training epoch : 21\n",
      "Loss : 0.6139125955158217\n",
      "Training epoch : 22\n",
      "Loss : 0.5914945541020014\n",
      "Training epoch : 23\n",
      "Loss : 0.5691593624484592\n",
      "Training epoch : 24\n",
      "Loss : 0.5482837443388355\n",
      "Training epoch : 25\n",
      "Loss : 0.5269761537597947\n",
      "Training epoch : 26\n",
      "Loss : 0.5040047717157343\n",
      "Training epoch : 27\n",
      "Loss : 0.48896510909553986\n",
      "Training epoch : 28\n",
      "Loss : 0.4659934743943309\n",
      "Training epoch : 29\n",
      "Loss : 0.4493666181075062\n"
     ]
    }
   ],
   "source": [
    "for epoch in range(30) :\n",
    "    print(\"Training epoch : \" + str(epoch))\n",
    "\n",
    "    running_loss = 0.0\n",
    "\n",
    "    for i, data in enumerate(train_loader) :\n",
    "        inputs, labels = data\n",
    "        optimizer.zero_grad()\n",
    "\n",
    "        outputs = net(inputs)\n",
    "\n",
    "        loss = loss_function(outputs, labels)\n",
    "        loss.backward()\n",
    "        optimizer.step()\n",
    "\n",
    "        running_loss += loss.item()\n",
    "    print(\"Loss : \" + str(running_loss/len(train_loader)))"
   ]
  },
  {
   "cell_type": "code",
   "execution_count": 25,
   "metadata": {},
   "outputs": [],
   "source": [
    "torch.save(net.state_dict(), 'trained_net.pth')"
   ]
  },
  {
   "cell_type": "code",
   "execution_count": null,
   "metadata": {},
   "outputs": [],
   "source": [
    "net = NeuralNet()\n",
    "net.load_state_dict(torch.load('trained_net.pth'))"
   ]
  },
  {
   "cell_type": "code",
   "execution_count": 28,
   "metadata": {},
   "outputs": [
    {
     "name": "stdout",
     "output_type": "stream",
     "text": [
      "Accuracy = 68.5\n"
     ]
    }
   ],
   "source": [
    "correct = 0\n",
    "total = 0\n",
    "\n",
    "net.eval()\n",
    "\n",
    "with torch.no_grad() :\n",
    "    for data in test_loader :\n",
    "        images, labels = data\n",
    "        outputs = net(images)\n",
    "        _, predicted = torch.max(outputs, 1)\n",
    "        total += labels.size(0)\n",
    "        correct += (predicted == labels).sum().item()\n",
    "\n",
    "accuracy = 100 * correct / total\n",
    "print(\"Accuracy = \" + str(accuracy))\n",
    "     "
   ]
  },
  {
   "cell_type": "code",
   "execution_count": 35,
   "metadata": {},
   "outputs": [
    {
     "name": "stdout",
     "output_type": "stream",
     "text": [
      "Prediction : horse\n",
      "Prediction : frog\n",
      "Prediction : cat\n",
      "Prediction : car\n"
     ]
    }
   ],
   "source": [
    "# TEST WITH ACTUAL IMAGES\n",
    "\n",
    "new_transform = transforms.Compose([\n",
    "    transforms.Resize((32,32)),\n",
    "    transforms.ToTensor(),\n",
    "    transforms.Normalize((0.5, 0.5, 0.5), (0.5, 0.5, 0.5))\n",
    "])\n",
    "\n",
    "def load_image(image_path) :\n",
    "    image = Image.open(image_path)\n",
    "    image = new_transform(image)\n",
    "    image = image.unsqueeze(0)\n",
    "    return image\n",
    "\n",
    "\n",
    "image_paths = ['Horse.jpg','Frog.jpg','Chat.jpg','Car.jpg']\n",
    "images = [load_image(img) for img in image_paths]\n",
    "\n",
    "net.eval()\n",
    "with torch.no_grad() :\n",
    "    for image in images :\n",
    "        output = net(image)\n",
    "        _, predicted = torch.max(output, 1)\n",
    "        print(f'Prediction : {class_names[predicted.item()]}')"
   ]
  }
 ],
 "metadata": {
  "kernelspec": {
   "display_name": "Python 3",
   "language": "python",
   "name": "python3"
  },
  "language_info": {
   "codemirror_mode": {
    "name": "ipython",
    "version": 3
   },
   "file_extension": ".py",
   "mimetype": "text/x-python",
   "name": "python",
   "nbconvert_exporter": "python",
   "pygments_lexer": "ipython3",
   "version": "3.11.9"
  }
 },
 "nbformat": 4,
 "nbformat_minor": 2
}
